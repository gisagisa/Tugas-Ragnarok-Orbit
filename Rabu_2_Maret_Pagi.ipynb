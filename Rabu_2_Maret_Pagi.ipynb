{
 "cells": [
  {
   "cell_type": "markdown",
   "id": "0fc5fd8b",
   "metadata": {},
   "source": [
    "Nama : Gisani Miftahul Rahma"
   ]
  },
  {
   "cell_type": "markdown",
   "id": "4a401ca3",
   "metadata": {},
   "source": [
    "Kelas : Ragnarok"
   ]
  },
  {
   "cell_type": "markdown",
   "id": "c364934f",
   "metadata": {},
   "source": [
    "Universitas : UPNVYK"
   ]
  },
  {
   "cell_type": "markdown",
   "id": "f1cc04c8",
   "metadata": {},
   "source": [
    "## Tugas Kelas Rabu 2 Maret Sesi Pagi"
   ]
  },
  {
   "cell_type": "markdown",
   "id": "3e403692",
   "metadata": {},
   "source": [
    "1. Berikut ini adalah tiga variabel yang menyimpan value dengan tipe boolean. Dengan menggunakan variabel tersebut, cobalah untuk mengerjakan soal 1 - 5 ! (Akan lebih seru jika kamu menebak terlebih dahulu hasilnya, kemudian baru implementasikan ke dalam kode program. Jika terdapat error, cobalah untuk menyelesaikannya sendiri terlebih dahulu).\n",
    "\n",
    "    a = False\n",
    "\n",
    "    b = True\n",
    "\n",
    "    c = False\n",
    "\n",
    "\n",
    "    1. (b and c)\n",
    "    2. b or c\n",
    "    3. not a and b\n",
    "    4. (a and b) or not c\n",
    "    5. not b and not (a or c) \n"
   ]
  },
  {
   "cell_type": "markdown",
   "id": "98e25ad7",
   "metadata": {},
   "source": [
    "Jawaban :\n",
    "1. False\n",
    "2. True\n",
    "3. True\n",
    "4. True\n",
    "5. False"
   ]
  },
  {
   "cell_type": "markdown",
   "id": "bb343bdd",
   "metadata": {},
   "source": [
    "2. Di bawah ini terdapat potongan kode program yang masih terdapat error (bug). Selesaikan permasalahan bug tersebut menggunakan pemahaman yang sudah dipelajari!"
   ]
  },
  {
   "cell_type": "markdown",
   "id": "3a8f37d9",
   "metadata": {},
   "source": [
    "print(Hello!)\n",
    "something == input('Enter something :)\n",
    "print('You entered :' something)"
   ]
  },
  {
   "cell_type": "markdown",
   "id": "5aaadbaf",
   "metadata": {},
   "source": [
    "Jawaban :"
   ]
  },
  {
   "cell_type": "code",
   "execution_count": 5,
   "id": "f346ac9c",
   "metadata": {},
   "outputs": [
    {
     "name": "stdout",
     "output_type": "stream",
     "text": [
      "Hello!\n",
      "Enter something : Hai\n",
      "You entered : Hai\n"
     ]
    }
   ],
   "source": [
    "print(\"Hello!\")\n",
    "something = input('Enter something : ')\n",
    "print('You entered :' , something)"
   ]
  },
  {
   "cell_type": "markdown",
   "id": "4508a16c",
   "metadata": {},
   "source": [
    "3. Lakukan hal yang sama seperti pada soal nomor 2!"
   ]
  },
  {
   "cell_type": "markdown",
   "id": "ca77df60",
   "metadata": {},
   "source": [
    "print('Hello!')\n",
    "something = input(\"Enter something : \")\n",
    "if something = 'hello' :\n",
    "    print(\"Hello for you too!\")\n",
    "    \n",
    "elif something = 'hi' :\n",
    "    print('Hi there!')\n",
    "    \n",
    "else : \n",
    "    print(\"I don't know what, \" something, \"means.\")"
   ]
  },
  {
   "cell_type": "markdown",
   "id": "867c0ca4",
   "metadata": {},
   "source": [
    "Jawaban"
   ]
  },
  {
   "cell_type": "code",
   "execution_count": 2,
   "id": "3ce2d8e0",
   "metadata": {},
   "outputs": [
    {
     "name": "stdout",
     "output_type": "stream",
     "text": [
      "Hello!\n",
      "Enter something : hjm\n",
      "I don't know what, hjm means.\n"
     ]
    }
   ],
   "source": [
    "print('Hello!')\n",
    "something = input(\"Enter something : \")\n",
    "if something == 'hello' :\n",
    "    print(\"Hello for you too!\")\n",
    "    \n",
    "elif something == 'hi' :\n",
    "    print('Hi there!')\n",
    "    \n",
    "else : \n",
    "    print(\"I don't know what,\",something, \"means.\")"
   ]
  },
  {
   "cell_type": "markdown",
   "id": "9233ffe4",
   "metadata": {},
   "source": [
    "4. Buatlah program yang dapat mencetak kata halo dan hai sebanyak 100 kali. contoh: halo hai halo hai … 98x !. Pastikan terdapat spasi di antara setiap perulangan kata!"
   ]
  },
  {
   "cell_type": "markdown",
   "id": "a9486a8c",
   "metadata": {},
   "source": [
    "Jawaban :"
   ]
  },
  {
   "cell_type": "code",
   "execution_count": 4,
   "id": "ad95eb7e",
   "metadata": {},
   "outputs": [
    {
     "name": "stdout",
     "output_type": "stream",
     "text": [
      "halo hai\n",
      "halo hai\n",
      "halo hai\n",
      "halo hai\n",
      "halo hai\n",
      "halo hai\n",
      "halo hai\n",
      "halo hai\n",
      "halo hai\n",
      "halo hai\n",
      "halo hai\n",
      "halo hai\n",
      "halo hai\n",
      "halo hai\n",
      "halo hai\n",
      "halo hai\n",
      "halo hai\n",
      "halo hai\n",
      "halo hai\n",
      "halo hai\n",
      "halo hai\n",
      "halo hai\n",
      "halo hai\n",
      "halo hai\n",
      "halo hai\n",
      "halo hai\n",
      "halo hai\n",
      "halo hai\n",
      "halo hai\n",
      "halo hai\n",
      "halo hai\n",
      "halo hai\n",
      "halo hai\n",
      "halo hai\n",
      "halo hai\n",
      "halo hai\n",
      "halo hai\n",
      "halo hai\n",
      "halo hai\n",
      "halo hai\n",
      "halo hai\n",
      "halo hai\n",
      "halo hai\n",
      "halo hai\n",
      "halo hai\n",
      "halo hai\n",
      "halo hai\n",
      "halo hai\n",
      "halo hai\n",
      "halo hai\n",
      "halo hai\n",
      "halo hai\n",
      "halo hai\n",
      "halo hai\n",
      "halo hai\n",
      "halo hai\n",
      "halo hai\n",
      "halo hai\n",
      "halo hai\n",
      "halo hai\n",
      "halo hai\n",
      "halo hai\n",
      "halo hai\n",
      "halo hai\n",
      "halo hai\n",
      "halo hai\n",
      "halo hai\n",
      "halo hai\n",
      "halo hai\n",
      "halo hai\n",
      "halo hai\n",
      "halo hai\n",
      "halo hai\n",
      "halo hai\n",
      "halo hai\n",
      "halo hai\n",
      "halo hai\n",
      "halo hai\n",
      "halo hai\n",
      "halo hai\n",
      "halo hai\n",
      "halo hai\n",
      "halo hai\n",
      "halo hai\n",
      "halo hai\n",
      "halo hai\n",
      "halo hai\n",
      "halo hai\n",
      "halo hai\n",
      "halo hai\n",
      "halo hai\n",
      "halo hai\n",
      "halo hai\n",
      "halo hai\n",
      "halo hai\n",
      "halo hai\n",
      "halo hai\n",
      "halo hai\n",
      "halo hai\n",
      "halo hai\n"
     ]
    }
   ],
   "source": [
    "for i in range(0,100):\n",
    "    print(\"halo hai\")"
   ]
  },
  {
   "cell_type": "markdown",
   "id": "ec231e7d",
   "metadata": {},
   "source": [
    "5. Buatlah game suit batu-gunting-kertas sederhana. Di dalam program tersebut terdapat dua orang pemain yang dapat memilih batu/gunting/kertas menggunakan input dari pengguna. Untuk mempermudah penggambaran aturan pemenang dalam game, lengkapilah tabel kemenangan dengan menggunakan semua kemungkinan yang tersedia."
   ]
  },
  {
   "cell_type": "markdown",
   "id": "3a2d5825",
   "metadata": {},
   "source": [
    "a. Membuat tabel kemenangan (Boleh menggunakan format markdown di Jupyter Notebook)"
   ]
  },
  {
   "cell_type": "code",
   "execution_count": 1,
   "id": "31771d1c",
   "metadata": {},
   "outputs": [
    {
     "data": {
      "text/html": [
       "<div>\n",
       "<style scoped>\n",
       "    .dataframe tbody tr th:only-of-type {\n",
       "        vertical-align: middle;\n",
       "    }\n",
       "\n",
       "    .dataframe tbody tr th {\n",
       "        vertical-align: top;\n",
       "    }\n",
       "\n",
       "    .dataframe thead th {\n",
       "        text-align: right;\n",
       "    }\n",
       "</style>\n",
       "<table border=\"1\" class=\"dataframe\">\n",
       "  <thead>\n",
       "    <tr style=\"text-align: right;\">\n",
       "      <th></th>\n",
       "      <th>player1</th>\n",
       "      <th>player2</th>\n",
       "      <th>hasil</th>\n",
       "    </tr>\n",
       "  </thead>\n",
       "  <tbody>\n",
       "    <tr>\n",
       "      <th>0</th>\n",
       "      <td>gunting</td>\n",
       "      <td>gunting</td>\n",
       "      <td>Draw</td>\n",
       "    </tr>\n",
       "    <tr>\n",
       "      <th>1</th>\n",
       "      <td>gunting</td>\n",
       "      <td>kertas</td>\n",
       "      <td>Pemain 1</td>\n",
       "    </tr>\n",
       "    <tr>\n",
       "      <th>2</th>\n",
       "      <td>gunting</td>\n",
       "      <td>batu</td>\n",
       "      <td>Pemain 2</td>\n",
       "    </tr>\n",
       "    <tr>\n",
       "      <th>3</th>\n",
       "      <td>kertas</td>\n",
       "      <td>gunting</td>\n",
       "      <td>Pemain2</td>\n",
       "    </tr>\n",
       "    <tr>\n",
       "      <th>4</th>\n",
       "      <td>kertas</td>\n",
       "      <td>kertas</td>\n",
       "      <td>Draw</td>\n",
       "    </tr>\n",
       "    <tr>\n",
       "      <th>5</th>\n",
       "      <td>kertas</td>\n",
       "      <td>batu</td>\n",
       "      <td>Pemain 1</td>\n",
       "    </tr>\n",
       "    <tr>\n",
       "      <th>6</th>\n",
       "      <td>batu</td>\n",
       "      <td>gunting</td>\n",
       "      <td>Pemain1</td>\n",
       "    </tr>\n",
       "    <tr>\n",
       "      <th>7</th>\n",
       "      <td>batu</td>\n",
       "      <td>kertas</td>\n",
       "      <td>Pemain 2</td>\n",
       "    </tr>\n",
       "    <tr>\n",
       "      <th>8</th>\n",
       "      <td>batu</td>\n",
       "      <td>batu</td>\n",
       "      <td>Draw</td>\n",
       "    </tr>\n",
       "  </tbody>\n",
       "</table>\n",
       "</div>"
      ],
      "text/plain": [
       "   player1  player2     hasil\n",
       "0  gunting  gunting      Draw\n",
       "1  gunting   kertas  Pemain 1\n",
       "2  gunting     batu  Pemain 2\n",
       "3   kertas  gunting   Pemain2\n",
       "4   kertas   kertas      Draw\n",
       "5   kertas     batu  Pemain 1\n",
       "6     batu  gunting   Pemain1\n",
       "7     batu   kertas  Pemain 2\n",
       "8     batu     batu      Draw"
      ]
     },
     "execution_count": 1,
     "metadata": {},
     "output_type": "execute_result"
    }
   ],
   "source": [
    "import pandas as pand\n",
    "\n",
    "tabelKemenangan = pand.DataFrame({\n",
    "    'player1':['gunting', 'gunting', 'gunting', 'kertas', 'kertas', 'kertas', 'batu', 'batu', 'batu'],\n",
    "    'player2':['gunting', 'kertas', 'batu', 'gunting', 'kertas', 'batu', 'gunting', 'kertas', 'batu'],\n",
    "    'hasil':['Draw', 'Pemain 1', 'Pemain 2', 'Pemain2', 'Draw', 'Pemain 1', 'Pemain1', 'Pemain 2', 'Draw']\n",
    "   \n",
    "})\n",
    "tabelKemenangan"
   ]
  },
  {
   "cell_type": "markdown",
   "id": "b3834874",
   "metadata": {},
   "source": [
    "b. Membuat program"
   ]
  },
  {
   "cell_type": "code",
   "execution_count": 46,
   "id": "a540448b",
   "metadata": {},
   "outputs": [
    {
     "name": "stdout",
     "output_type": "stream",
     "text": [
      "Permainan Batu Gunting Kertas\n",
      "Silahkan input batu/gunting/kertas (sesuai format)\n",
      "\n",
      "Input player 1 : batu\n",
      "Input player 2 : gunting\n",
      "\n",
      "Hasil :\n",
      "Player 1 :  batu\n",
      "Player 2 :  gunting\n",
      "\n",
      " Pemain1\n"
     ]
    }
   ],
   "source": [
    "print(\"Permainan Batu Gunting Kertas\")\n",
    "print(\"Silahkan input batu/gunting/kertas (sesuai format)\")\n",
    "player1 = input(\"\\nInput player 1 : \")\n",
    "player2 = input(\"Input player 2 : \")\n",
    "\n",
    "repeat = 0\n",
    "hsl = False\n",
    "\n",
    "while hsl == False:\n",
    "    if (player1 == tabelKemenangan.player1[repeat] and player2==tabelKemenangan.player2[repeat]):\n",
    "        hasil = tabelKemenangan.hasil[repeat]\n",
    "        hsl = True\n",
    "        print(\"\\nHasil :\")\n",
    "        print(\"Player 1 : \", player1)\n",
    "        print(\"Player 2 : \", player2)\n",
    "        print(\"\\n\",hasil)\n",
    "        break\n",
    "    elif(repeat >= 8) :\n",
    "        print(\"Input harus sesuai format\")\n",
    "        hsl = True\n",
    "        break\n",
    "    else :\n",
    "        repeat += 1\n",
    "        hsl = False\n",
    "        \n"
   ]
  },
  {
   "cell_type": "markdown",
   "id": "9ed57156",
   "metadata": {},
   "source": [
    "6. Buatlah program sederhana yang menerima input secara terus menerus, akan tetapi ketika input berupa string “berhenti”, maka program tersebut akan berhenti berjalan!"
   ]
  },
  {
   "cell_type": "markdown",
   "id": "acda1709",
   "metadata": {},
   "source": [
    "Jawaban :"
   ]
  },
  {
   "cell_type": "code",
   "execution_count": 48,
   "id": "4056a5cd",
   "metadata": {},
   "outputs": [
    {
     "name": "stdout",
     "output_type": "stream",
     "text": [
      "Masukkan text : he\n",
      "Masukkan text : fe\n",
      "Masukkan text : re\n",
      "Masukkan text : ert\n",
      "Masukkan text : te\n",
      "Masukkan text : ert\n",
      "Masukkan text : berhenti\n"
     ]
    }
   ],
   "source": [
    "text = \"\"\n",
    "while text != \"berhenti\" :\n",
    "    text = input(\"Masukkan text : \")"
   ]
  },
  {
   "cell_type": "markdown",
   "id": "5126f0f8",
   "metadata": {},
   "source": [
    "7. Dengan menggunakan konsep yang sama pada soal nomor 6, buatlah program yang dapat menampilkan menu makanan atau tertentu (minimal 3 menu). Pengguna dapat memilih salah satu dari menu yang disediakan dan menampilkan kembali menu yang dipesan beserta harganya. Program akan berhenti berjalan apabila input dari pengguna berupa string “cukup”."
   ]
  },
  {
   "cell_type": "markdown",
   "id": "97d4b122",
   "metadata": {},
   "source": [
    "Jawaban :"
   ]
  },
  {
   "cell_type": "code",
   "execution_count": 4,
   "id": "b34da9b8",
   "metadata": {},
   "outputs": [
    {
     "name": "stdout",
     "output_type": "stream",
     "text": [
      "MENU KANTIN RAGNAROK\n",
      "\n",
      "1 .  bakso  - Rp. 10000\n",
      "2 .  siomay  - Rp. 5000\n",
      "3 .  soto  - Rp. 12000\n",
      "4 .  mie ayam  - Rp. 15000\n",
      "5 .  seblak  - Rp. 8000\n",
      "Pilih menu yang ingin kamu beli : 3\n",
      "Masukkan jumlah menu pilihan yang ingin kamu beli : 5\n",
      "Kamu memesan  soto dengan harga 12000\n",
      "input user : 2\n",
      "MENU KANTIN RAGNAROK\n",
      "\n",
      "1 .  bakso  - Rp. 10000\n",
      "2 .  siomay  - Rp. 5000\n",
      "3 .  soto  - Rp. 12000\n",
      "4 .  mie ayam  - Rp. 15000\n",
      "5 .  seblak  - Rp. 8000\n",
      "Pilih menu yang ingin kamu beli : 2\n",
      "Masukkan jumlah menu pilihan yang ingin kamu beli : 4\n",
      "Kamu memesan  siomay dengan harga 5000\n",
      "input user : cukup\n",
      "Terimakasih sudah berbelanja\n"
     ]
    }
   ],
   "source": [
    "belanja = \"\"\n",
    "\n",
    "menu=['bakso', 'siomay', 'soto', 'mie ayam', 'seblak']\n",
    "harga=[10000, 5000, 12000, 15000, 8000]\n",
    "\n",
    "while belanja != \"cukup\" :\n",
    "    print(\"\\n\\nMENU KANTIN RAGNAROK\\n\")\n",
    "    for i in range (5):\n",
    "        print(i+1 , \". \" , menu[i] , \" - Rp.\" , harga[i])\n",
    "        i+=1\n",
    "    pilih = int(input(\"Pilih menu yang ingin kamu beli : \"))\n",
    "    jumlah = input(\"Masukkan jumlah menu pilihan yang ingin kamu beli : \")\n",
    "    print(\"Kamu memesan \", menu[pilih-1], \"dengan harga\", harga[pilih-1])\n",
    "    belanja = input(\"input user : \")\n",
    "\n",
    "print(\"Terimakasih sudah berbelanja\")\n"
   ]
  },
  {
   "cell_type": "markdown",
   "id": "652799ef",
   "metadata": {},
   "source": [
    "8. Buat program pada nomor 7 menjadi sedikit lebih kompleks dengan studi kasus tambahan apabila pengguna ingin membeli 10 Bakwan!"
   ]
  },
  {
   "cell_type": "markdown",
   "id": "c444ddeb",
   "metadata": {},
   "source": [
    "Jawaban :\n"
   ]
  },
  {
   "cell_type": "code",
   "execution_count": 1,
   "id": "04e6d250",
   "metadata": {},
   "outputs": [
    {
     "name": "stdout",
     "output_type": "stream",
     "text": [
      "\n",
      "\n",
      "MENU KANTIN RAGNAROK\n",
      "\n",
      "1 .  bakso  - Rp. 10000\n",
      "2 .  siomay  - Rp. 5000\n",
      "3 .  soto  - Rp. 12000\n",
      "4 .  mie ayam  - Rp. 15000\n",
      "5 .  seblak  - Rp. 8000\n",
      "Pilih menu yang ingin kamu beli : 3\n",
      "Masukkan jumlah menu pilihan yang ingin kamu beli : 5\n",
      "Kamu memesan  soto dengan harga 60000\n",
      "input user : 2\n",
      "\n",
      "\n",
      "MENU KANTIN RAGNAROK\n",
      "\n",
      "1 .  bakso  - Rp. 10000\n",
      "2 .  siomay  - Rp. 5000\n",
      "3 .  soto  - Rp. 12000\n",
      "4 .  mie ayam  - Rp. 15000\n",
      "5 .  seblak  - Rp. 8000\n",
      "Pilih menu yang ingin kamu beli : 4\n",
      "Masukkan jumlah menu pilihan yang ingin kamu beli : 2\n",
      "Kamu memesan  mie ayam dengan harga 30000\n",
      "input user : cukup\n",
      "Terimakasih sudah berbelanja\n"
     ]
    }
   ],
   "source": [
    "belanja = \"\"\n",
    "\n",
    "menu=['bakso', 'siomay', 'soto', 'mie ayam', 'seblak']\n",
    "harga=[10000, 5000, 12000, 15000, 8000]\n",
    "\n",
    "while belanja != \"cukup\" :\n",
    "    print(\"\\n\\nMENU KANTIN RAGNAROK\\n\")\n",
    "    for i in range (5):\n",
    "        print(i+1 , \". \" , menu[i] , \" - Rp.\" , harga[i])\n",
    "        i+=1\n",
    "    pilih = int(input(\"Pilih menu yang ingin kamu beli : \"))\n",
    "    jumlah = int(input(\"Masukkan jumlah menu pilihan yang ingin kamu beli : \"))\n",
    "    print(\"Kamu memesan \", menu[pilih-1], \"dengan harga\", harga[pilih-1]*jumlah)\n",
    "    belanja = input(\"input user : \")\n",
    "\n",
    "print(\"Terimakasih sudah berbelanja\")"
   ]
  }
 ],
 "metadata": {
  "kernelspec": {
   "display_name": "Python 3",
   "language": "python",
   "name": "python3"
  },
  "language_info": {
   "codemirror_mode": {
    "name": "ipython",
    "version": 3
   },
   "file_extension": ".py",
   "mimetype": "text/x-python",
   "name": "python",
   "nbconvert_exporter": "python",
   "pygments_lexer": "ipython3",
   "version": "3.8.8"
  }
 },
 "nbformat": 4,
 "nbformat_minor": 5
}
