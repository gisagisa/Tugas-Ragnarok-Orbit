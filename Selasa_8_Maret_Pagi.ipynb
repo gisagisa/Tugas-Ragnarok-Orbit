{
 "cells": [
  {
   "cell_type": "markdown",
   "id": "b2b57fcd",
   "metadata": {},
   "source": [
    "## Tugas Selasa Math for AI, Materi Operasi Matrix"
   ]
  },
  {
   "cell_type": "markdown",
   "id": "966e0224",
   "metadata": {},
   "source": [
    "Nama : Gisani Miftahul Rahma"
   ]
  },
  {
   "cell_type": "markdown",
   "id": "ccee6cef",
   "metadata": {},
   "source": [
    "Kelas : Ragnarok"
   ]
  },
  {
   "cell_type": "markdown",
   "id": "ddf5743a",
   "metadata": {},
   "source": [
    "Universitas : UPNVYK"
   ]
  },
  {
   "cell_type": "markdown",
   "id": "75713c63",
   "metadata": {},
   "source": [
    "### Soal"
   ]
  },
  {
   "cell_type": "code",
   "execution_count": 8,
   "id": "e7d90480",
   "metadata": {},
   "outputs": [
    {
     "data": {
      "text/plain": [
       "(array([[1, 2],\n",
       "        [7, 8]]),\n",
       " array([[3, 5],\n",
       "        [1, 6]]))"
      ]
     },
     "execution_count": 8,
     "metadata": {},
     "output_type": "execute_result"
    }
   ],
   "source": [
    "import numpy as np\n",
    "import numpy.linalg as nlin\n",
    "\n",
    "A = np.array([[1, 2], [7,8]])\n",
    "B = np.array([[3, 5], [1,6]])\n",
    "\n",
    "A,B"
   ]
  },
  {
   "cell_type": "markdown",
   "id": "4b49c360",
   "metadata": {},
   "source": [
    "**1. 2*A**"
   ]
  },
  {
   "cell_type": "code",
   "execution_count": 9,
   "id": "382fc441",
   "metadata": {},
   "outputs": [
    {
     "data": {
      "text/plain": [
       "array([[ 2,  4],\n",
       "       [14, 16]])"
      ]
     },
     "execution_count": 9,
     "metadata": {},
     "output_type": "execute_result"
    }
   ],
   "source": [
    "2*A"
   ]
  },
  {
   "cell_type": "markdown",
   "id": "cd3ff12c",
   "metadata": {},
   "source": [
    "**2. 2+A**"
   ]
  },
  {
   "cell_type": "code",
   "execution_count": 10,
   "id": "61e32698",
   "metadata": {},
   "outputs": [
    {
     "data": {
      "text/plain": [
       "array([[ 3,  4],\n",
       "       [ 9, 10]])"
      ]
     },
     "execution_count": 10,
     "metadata": {},
     "output_type": "execute_result"
    }
   ],
   "source": [
    "2+A"
   ]
  },
  {
   "cell_type": "markdown",
   "id": "383adbb2",
   "metadata": {},
   "source": [
    "**3. A+B**"
   ]
  },
  {
   "cell_type": "code",
   "execution_count": 11,
   "id": "f00ccc25",
   "metadata": {},
   "outputs": [
    {
     "data": {
      "text/plain": [
       "array([[ 4,  7],\n",
       "       [ 8, 14]])"
      ]
     },
     "execution_count": 11,
     "metadata": {},
     "output_type": "execute_result"
    }
   ],
   "source": [
    "A+B"
   ]
  },
  {
   "cell_type": "markdown",
   "id": "7f4bad10",
   "metadata": {},
   "source": [
    "**4. A-B**"
   ]
  },
  {
   "cell_type": "code",
   "execution_count": 12,
   "id": "98c716bd",
   "metadata": {},
   "outputs": [
    {
     "data": {
      "text/plain": [
       "array([[-2, -3],\n",
       "       [ 6,  2]])"
      ]
     },
     "execution_count": 12,
     "metadata": {},
     "output_type": "execute_result"
    }
   ],
   "source": [
    "A-B"
   ]
  },
  {
   "cell_type": "markdown",
   "id": "ce3804d1",
   "metadata": {},
   "source": [
    "**5. Determinan A**"
   ]
  },
  {
   "cell_type": "code",
   "execution_count": 13,
   "id": "bca495d9",
   "metadata": {},
   "outputs": [
    {
     "data": {
      "text/plain": [
       "-6.0"
      ]
     },
     "execution_count": 13,
     "metadata": {},
     "output_type": "execute_result"
    }
   ],
   "source": [
    "nlin.det(A)"
   ]
  },
  {
   "cell_type": "markdown",
   "id": "e0de0298",
   "metadata": {},
   "source": [
    "**6. Invers dari B, simpan jadi matrix D**"
   ]
  },
  {
   "cell_type": "code",
   "execution_count": 14,
   "id": "8f0d1b75",
   "metadata": {},
   "outputs": [
    {
     "data": {
      "text/plain": [
       "array([[ 0.46153846, -0.38461538],\n",
       "       [-0.07692308,  0.23076923]])"
      ]
     },
     "execution_count": 14,
     "metadata": {},
     "output_type": "execute_result"
    }
   ],
   "source": [
    "D = nlin.inv(B)\n",
    "\n",
    "D"
   ]
  },
  {
   "cell_type": "markdown",
   "id": "fe37ca46",
   "metadata": {},
   "source": [
    "**7. Transpose D**"
   ]
  },
  {
   "cell_type": "code",
   "execution_count": 15,
   "id": "3a898e2b",
   "metadata": {},
   "outputs": [
    {
     "data": {
      "text/plain": [
       "array([[ 0.46153846, -0.07692308],\n",
       "       [-0.38461538,  0.23076923]])"
      ]
     },
     "execution_count": 15,
     "metadata": {},
     "output_type": "execute_result"
    }
   ],
   "source": [
    "np.transpose(D)"
   ]
  },
  {
   "cell_type": "markdown",
   "id": "aa937e53",
   "metadata": {},
   "source": [
    "**8. Nilai eigen dan vektor eigen dari A dan B**"
   ]
  },
  {
   "cell_type": "code",
   "execution_count": 19,
   "id": "90d321ea",
   "metadata": {},
   "outputs": [
    {
     "name": "stdout",
     "output_type": "stream",
     "text": [
      "Nilai Eig matrix A :\n",
      " [-0.62347538  9.62347538]\n",
      "\n",
      "Vektor Eig matrix A :\n",
      " [[-0.77640358 -0.22592838]\n",
      " [ 0.63023605 -0.97414391]]\n"
     ]
    }
   ],
   "source": [
    "nilaiEigA, vektorEigA=nlin.eig(A)\n",
    "\n",
    "print(\"Nilai Eig matrix A :\\n\",nilaiEigA)\n",
    "print(\"\\nVektor Eig matrix A :\\n\", vektorEigA)"
   ]
  },
  {
   "cell_type": "code",
   "execution_count": 20,
   "id": "f677877f",
   "metadata": {},
   "outputs": [
    {
     "name": "stdout",
     "output_type": "stream",
     "text": [
      "Nilai Eig matrix B :\n",
      " [1.8074176 7.1925824]\n",
      "\n",
      "Vektor Eig matrix B :\n",
      " [[-0.97271381 -0.76626443]\n",
      " [ 0.23200828 -0.64252535]]\n"
     ]
    }
   ],
   "source": [
    "nilaiEigB, vektorEigB=nlin.eig(B)\n",
    "\n",
    "print(\"Nilai Eig matrix B :\\n\",nilaiEigB)\n",
    "print(\"\\nVektor Eig matrix B :\\n\", vektorEigB)"
   ]
  }
 ],
 "metadata": {
  "kernelspec": {
   "display_name": "Python 3",
   "language": "python",
   "name": "python3"
  },
  "language_info": {
   "codemirror_mode": {
    "name": "ipython",
    "version": 3
   },
   "file_extension": ".py",
   "mimetype": "text/x-python",
   "name": "python",
   "nbconvert_exporter": "python",
   "pygments_lexer": "ipython3",
   "version": "3.8.8"
  }
 },
 "nbformat": 4,
 "nbformat_minor": 5
}
