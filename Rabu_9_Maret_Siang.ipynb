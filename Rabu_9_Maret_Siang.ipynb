{
 "cells": [
  {
   "cell_type": "markdown",
   "id": "aff4b8a4",
   "metadata": {},
   "source": [
    "## Tugas Rabu, Materi Basic Statistic"
   ]
  },
  {
   "cell_type": "markdown",
   "id": "61b0644e",
   "metadata": {},
   "source": [
    "Nama : Gisani Miftahul Rahma"
   ]
  },
  {
   "cell_type": "markdown",
   "id": "1013dfd5",
   "metadata": {},
   "source": [
    "Kelas : Ragnarok"
   ]
  },
  {
   "cell_type": "markdown",
   "id": "2539d762",
   "metadata": {},
   "source": [
    "Universitas : UPNVYK"
   ]
  },
  {
   "cell_type": "markdown",
   "id": "11d18c21",
   "metadata": {},
   "source": [
    "### Praktik Pengulangan Program "
   ]
  },
  {
   "cell_type": "code",
   "execution_count": 57,
   "id": "ffc7a0ff",
   "metadata": {},
   "outputs": [],
   "source": [
    "import sys\n",
    "import scipy\n",
    "import numpy as np\n",
    "from scipy import stats\n",
    "import statistics\n",
    "from IPython.display import HTML\n",
    "from IPython.display import display\n",
    "from scipy.stats import skewnorm\n",
    "import matplotlib.pyplot as plt"
   ]
  },
  {
   "cell_type": "code",
   "execution_count": 27,
   "id": "3c86842a",
   "metadata": {},
   "outputs": [
    {
     "data": {
      "text/plain": [
       "array([1, 2, 3, 5, 5])"
      ]
     },
     "execution_count": 27,
     "metadata": {},
     "output_type": "execute_result"
    }
   ],
   "source": [
    "# Membuat array dalam numpy\n",
    "\n",
    "array=np.array([1,2,3,5,5])\n",
    "\n",
    "array"
   ]
  },
  {
   "cell_type": "code",
   "execution_count": 30,
   "id": "f1a94674",
   "metadata": {},
   "outputs": [
    {
     "name": "stdout",
     "output_type": "stream",
     "text": [
      "Mean: 3.2\n"
     ]
    }
   ],
   "source": [
    "# Menghitung mean\n",
    "\n",
    "print(\"Mean:\",np.mean(array))"
   ]
  },
  {
   "cell_type": "code",
   "execution_count": 31,
   "id": "013ebb74",
   "metadata": {},
   "outputs": [
    {
     "name": "stdout",
     "output_type": "stream",
     "text": [
      "Median 3.0\n"
     ]
    }
   ],
   "source": [
    "# Menghitung median\n",
    "\n",
    "print(\"Median\",np.median(array))"
   ]
  },
  {
   "cell_type": "code",
   "execution_count": 41,
   "id": "4fe8bcd2",
   "metadata": {},
   "outputs": [
    {
     "name": "stdout",
     "output_type": "stream",
     "text": [
      "Index nilai modus:  3\n",
      "\n",
      "Modus dengan numpy: 5\n"
     ]
    }
   ],
   "source": [
    "#Menghitung modus dengan numpy\n",
    "#Mencari nilai unik dan jumlahnya\n",
    "data, jumlah = np.unique(array, return_counts=True)\n",
    "\n",
    "indexModus = np.argmax(count)\n",
    "print(\"Index nilai modus: \", index)\n",
    "print(\"\\nModus dengan numpy:\",data[index])"
   ]
  },
  {
   "cell_type": "code",
   "execution_count": 43,
   "id": "5f35613c",
   "metadata": {},
   "outputs": [
    {
     "data": {
      "text/plain": [
       "ModeResult(mode=array([5]), count=array([2]))"
      ]
     },
     "execution_count": 43,
     "metadata": {},
     "output_type": "execute_result"
    }
   ],
   "source": [
    "#Menghitung modus dengan scipy\n",
    "\n",
    "modus = stats.mode(X)\n",
    "modus"
   ]
  },
  {
   "cell_type": "code",
   "execution_count": 44,
   "id": "c8f2fffe",
   "metadata": {},
   "outputs": [
    {
     "data": {
      "text/plain": [
       "4"
      ]
     },
     "execution_count": 44,
     "metadata": {},
     "output_type": "execute_result"
    }
   ],
   "source": [
    "# Menghitung range\n",
    "\n",
    "range = X.max()-X.min()\n",
    "range"
   ]
  },
  {
   "cell_type": "code",
   "execution_count": 47,
   "id": "2ee0f7ce",
   "metadata": {},
   "outputs": [
    {
     "name": "stdout",
     "output_type": "stream",
     "text": [
      "Data : [ 1  3  4  5  5  6  7 11] \n",
      "\n",
      "Quartil 1 : 3.5\n",
      "Quartil 2 : 5.0\n",
      "Quartil 3 : 6.5\n",
      "\n",
      "IQR :  3.0\n"
     ]
    },
    {
     "name": "stderr",
     "output_type": "stream",
     "text": [
      "<ipython-input-47-75523d0dab2a>:7: DeprecationWarning: the `interpolation=` argument to quantile was renamed to `method=`, which has additional options.\n",
      "Users of the modes 'nearest', 'lower', 'higher', or 'midpoint' are encouraged to review the method they. (Deprecated NumPy 1.22)\n",
      "  Q1 = np.quantile(dataQ, .25, interpolation = 'midpoint')\n",
      "<ipython-input-47-75523d0dab2a>:10: DeprecationWarning: the `interpolation=` argument to quantile was renamed to `method=`, which has additional options.\n",
      "Users of the modes 'nearest', 'lower', 'higher', or 'midpoint' are encouraged to review the method they. (Deprecated NumPy 1.22)\n",
      "  Q2 = np.quantile(dataQ, .50, interpolation = 'midpoint')\n",
      "<ipython-input-47-75523d0dab2a>:13: DeprecationWarning: the `interpolation=` argument to quantile was renamed to `method=`, which has additional options.\n",
      "Users of the modes 'nearest', 'lower', 'higher', or 'midpoint' are encouraged to review the method they. (Deprecated NumPy 1.22)\n",
      "  Q3 = np.quantile(dataQ, .75, interpolation = 'midpoint')\n"
     ]
    }
   ],
   "source": [
    "# Menghitung quartil\n",
    "\n",
    "\n",
    "dataQ=np.array([1, 3, 4, 5, 5, 6, 7, 11])\n",
    "print(\"Data :\",dataQ,\"\\n\")\n",
    "\n",
    "Q1 = np.quantile(dataQ, .25, interpolation = 'midpoint')\n",
    "print(\"Quartil 1 :\",Q1)\n",
    " \n",
    "Q2 = np.quantile(dataQ, .50, interpolation = 'midpoint')\n",
    "print(\"Quartil 2 :\",Q2)\n",
    "\n",
    "Q3 = np.quantile(dataQ, .75, interpolation = 'midpoint')\n",
    "print(\"Quartil 3 :\",Q3)\n",
    "\n",
    "IQR = Q3 - Q1\n",
    "print(\"\\nIQR : \",IQR)"
   ]
  },
  {
   "cell_type": "code",
   "execution_count": 48,
   "id": "dd998780",
   "metadata": {},
   "outputs": [
    {
     "name": "stdout",
     "output_type": "stream",
     "text": [
      "Persentil 20: 16.2\n"
     ]
    }
   ],
   "source": [
    "# Menghitung persentil\n",
    "\n",
    "dataP=np.array([11, 13, 24, 55, 35, 46, 27, 21])\n",
    "\n",
    "P20 = np.percentile(dataP,20)\n",
    "\n",
    "print(\"Persentil 20:\",round(P20,2))"
   ]
  },
  {
   "cell_type": "code",
   "execution_count": 50,
   "id": "6198172e",
   "metadata": {},
   "outputs": [
    {
     "name": "stdout",
     "output_type": "stream",
     "text": [
      "[ 1  3  4  5  5  6  7 11]\n",
      "\n",
      "Varians : 8.785714285714286\n",
      "\n",
      "Standar Deviasi : 2.7726341266023544\n",
      "\n",
      "Standar Deviasi : 2.9640705601780613\n"
     ]
    }
   ],
   "source": [
    "arr=np.array([1, 3, 4, 5, 5, 6, 7, 11])\n",
    "\n",
    "print(arr)\n",
    "\n",
    "v = np.var(data1,ddof=1)\n",
    "sd1 = np.std(data1,ddof=0)\n",
    "sd2 = np.std(data1,ddof=1)\n",
    "\n",
    "\n",
    "print(\"\\nVarians :\",v)\n",
    "\n",
    "#populasi\n",
    "print(\"\\nStandar Deviasi :\",sd1) \n",
    "\n",
    "#sampel\n",
    "print(\"\\nStandar Deviasi :\",sd2) "
   ]
  },
  {
   "cell_type": "code",
   "execution_count": 52,
   "id": "5f623ce4",
   "metadata": {},
   "outputs": [
    {
     "name": "stdout",
     "output_type": "stream",
     "text": [
      "\n",
      "Mean E :  78.0\n",
      "\n",
      "Range E : 40\n",
      "\n",
      "Varians E : 116.0\n",
      "\n",
      "Standart Deviasi Populasi E:  10.770329614269007\n",
      "\n",
      "Standart Deviasi Sampel E:  11.352924243950934\n"
     ]
    }
   ],
   "source": [
    "#Kesimpulan\n",
    "\n",
    "E = [60,70,70,70,80,80,80,80,90,100]\n",
    "\n",
    "meanE = np.mean(E)\n",
    "rangeE = np.max(E) - np.min(E)\n",
    "variansE = np.var(E)\n",
    "sdpE = np.std(E)\n",
    "sdsE = statistics.stdev(E)\n",
    "\n",
    "print(\"\\nMean E : \", meanE)\n",
    "\n",
    "print(\"\\nRange E :\", rangeE)\n",
    "\n",
    "print(\"\\nVarians E :\", variansE)\n",
    "\n",
    "print(\"\\nStandart Deviasi Populasi E: \", sdpE) \n",
    "\n",
    "print(\"\\nStandart Deviasi Sampel E: \", sdsE)"
   ]
  },
  {
   "cell_type": "code",
   "execution_count": 53,
   "id": "99eec33d",
   "metadata": {},
   "outputs": [
    {
     "name": "stdout",
     "output_type": "stream",
     "text": [
      "Covariance :  -7.5\n"
     ]
    }
   ],
   "source": [
    "#Kovarian\n",
    "\n",
    "A = np.array([1,2,3,4,5,6,7,8,9])\n",
    "\n",
    "B = np.array([9,8,7,6,5,4,3,2,1])\n",
    "\n",
    "covariance = np.cov(A,B)[0,1]\n",
    "\n",
    "print(\"Covariance : \",covariance)"
   ]
  },
  {
   "cell_type": "code",
   "execution_count": 19,
   "id": "b131d68f",
   "metadata": {},
   "outputs": [
    {
     "name": "stdout",
     "output_type": "stream",
     "text": [
      "[[ 1. -1.]\n",
      " [-1.  1.]]\n"
     ]
    }
   ],
   "source": [
    "# Korelasi\n",
    "\n",
    "print(np.corrcoef(A,B))"
   ]
  },
  {
   "cell_type": "code",
   "execution_count": 54,
   "id": "f068da2d",
   "metadata": {},
   "outputs": [
    {
     "name": "stdout",
     "output_type": "stream",
     "text": [
      "Kurtosis : -1.2002400240024003\n"
     ]
    }
   ],
   "source": [
    "#Kurtosis\n",
    "\n",
    "arr2=np.linspace(-5,5,100)\n",
    "\n",
    "kurto = stats.kurtosis(arr2)\n",
    "\n",
    "print(\"Kurtosis :\",kurto)"
   ]
  },
  {
   "cell_type": "code",
   "execution_count": 58,
   "id": "a3d780bd",
   "metadata": {},
   "outputs": [
    {
     "data": {
      "text/html": [
       "<script>\n",
       "code_show=true; \n",
       "function code_toggle() {\n",
       "    if (code_show){\n",
       "        $('div.cell.code_cell.rendered.selected div.input').hide();\n",
       "    } else {\n",
       "        $('div.cell.code_cell.rendered.selected div.input').show();\n",
       "    }\n",
       "    code_show = !code_show\n",
       "} \n",
       "$( document ).ready(code_toggle);\n",
       "</script>\n",
       "To show/hide this cell's raw code input, click <a href=\"javascript:code_toggle()\">here</a>."
      ],
      "text/plain": [
       "<IPython.core.display.HTML object>"
      ]
     },
     "metadata": {},
     "output_type": "display_data"
    },
    {
     "data": {
      "image/png": "[encoded data removed]",
      "text/plain": [
       "<Figure size 432x288 with 1 Axes>"
      ]
     },
     "metadata": {
      "needs_background": "light"
     },
     "output_type": "display_data"
    }
   ],
   "source": [
    "tag = HTML('''<script>\n",
    "code_show=true; \n",
    "function code_toggle() {\n",
    "    if (code_show){\n",
    "        $('div.cell.code_cell.rendered.selected div.input').hide();\n",
    "    } else {\n",
    "        $('div.cell.code_cell.rendered.selected div.input').show();\n",
    "    }\n",
    "    code_show = !code_show\n",
    "} \n",
    "$( document ).ready(code_toggle);\n",
    "</script>\n",
    "To show/hide this cell's raw code input, click <a href=\"javascript:code_toggle()\">here</a>.''')\n",
    "display(tag)\n",
    "\n",
    "###\n",
    "\n",
    "numValues = 10000\n",
    "maxValue = 100\n",
    "skewness = -5   #Negative values are left skewed, positive values are right skewed.\n",
    "\n",
    "random = skewnorm.rvs(a = skewness,loc=maxValue, size=numValues)  #Skewnorm function\n",
    "\n",
    "random = random - min(random)      #Shift the set so the minimum value is equal to zero.\n",
    "random = random / max(random)      #Standadize all the vlues between 0 and 1. \n",
    "random = random * maxValue         #Multiply the standardized values by the maximum value.\n",
    "\n",
    "#Plot histogram to check skewness\n",
    "plt.hist(random,30,density=True, color = 'red', alpha=0.1)\n",
    "plt.show()"
   ]
  },
  {
   "cell_type": "code",
   "execution_count": 60,
   "id": "5dbbd1d5",
   "metadata": {},
   "outputs": [
    {
     "data": {
      "text/plain": [
       "matrix([[4, 2, 3],\n",
       "        [6, 7, 5],\n",
       "        [3, 6, 1]])"
      ]
     },
     "execution_count": 60,
     "metadata": {},
     "output_type": "execute_result"
    }
   ],
   "source": [
    "# EIGEN VECTOR\n",
    "\n",
    "a = np.matrix([[4,2,3],[6,7,5],[3,6,1]])\n",
    "\n",
    "a"
   ]
  },
  {
   "cell_type": "code",
   "execution_count": 23,
   "id": "d9946b94",
   "metadata": {},
   "outputs": [
    {
     "data": {
      "text/plain": [
       "array([[1., 0., 0.],\n",
       "       [0., 1., 0.],\n",
       "       [0., 0., 1.]])"
      ]
     },
     "execution_count": 23,
     "metadata": {},
     "output_type": "execute_result"
    }
   ],
   "source": [
    "e = np.eye(3)\n",
    "\n",
    "e"
   ]
  },
  {
   "cell_type": "code",
   "execution_count": 64,
   "id": "b8093c74",
   "metadata": {},
   "outputs": [
    {
     "data": {
      "text/plain": [
       "(array([12.76222365,  1.17374428, -1.93596793]),\n",
       " matrix([[-0.35090794, -0.78464131, -0.36647301],\n",
       "         [-0.79489403,  0.40589024, -0.25466269],\n",
       "         [-0.49498192,  0.4686055 ,  0.89489913]]))"
      ]
     },
     "execution_count": 64,
     "metadata": {},
     "output_type": "execute_result"
    }
   ],
   "source": [
    "m = a + 45*e\n",
    "\n",
    "ei1= np.linalg.eig(a)\n",
    "\n",
    "ei1"
   ]
  },
  {
   "cell_type": "code",
   "execution_count": 65,
   "id": "06b77a53",
   "metadata": {},
   "outputs": [
    {
     "data": {
      "text/plain": [
       "(array([57.76222365, 46.17374428, 43.06403207]),\n",
       " matrix([[-0.35090794, -0.78464131, -0.36647301],\n",
       "         [-0.79489403,  0.40589024, -0.25466269],\n",
       "         [-0.49498192,  0.4686055 ,  0.89489913]]))"
      ]
     },
     "execution_count": 65,
     "metadata": {},
     "output_type": "execute_result"
    }
   ],
   "source": [
    "ei2 = np.linalg.eig(m)\n",
    "\n",
    "ei2"
   ]
  }
 ],
 "metadata": {
  "kernelspec": {
   "display_name": "Python 3",
   "language": "python",
   "name": "python3"
  },
  "language_info": {
   "codemirror_mode": {
    "name": "ipython",
    "version": 3
   },
   "file_extension": ".py",
   "mimetype": "text/x-python",
   "name": "python",
   "nbconvert_exporter": "python",
   "pygments_lexer": "ipython3",
   "version": "3.8.8"
  }
 },
 "nbformat": 4,
 "nbformat_minor": 5
}
