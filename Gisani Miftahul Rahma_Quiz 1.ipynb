{
 "cells": [
  {
   "cell_type": "markdown",
   "id": "62a0a503",
   "metadata": {},
   "source": [
    "Nama : Gisani Miftahul Rahma"
   ]
  },
  {
   "cell_type": "markdown",
   "id": "75d94884",
   "metadata": {},
   "source": [
    "Kelas : Ragnarok"
   ]
  },
  {
   "cell_type": "markdown",
   "id": "87c997e4",
   "metadata": {},
   "source": [
    "Universitas : UPNVYK"
   ]
  },
  {
   "cell_type": "markdown",
   "id": "ed0a41fa",
   "metadata": {},
   "source": [
    "# QUIZ 1"
   ]
  },
  {
   "cell_type": "markdown",
   "id": "d0d739f9",
   "metadata": {},
   "source": [
    "## Python OOP"
   ]
  },
  {
   "cell_type": "markdown",
   "id": "0b659b3f",
   "metadata": {},
   "source": [
    "**1. Apa itu OOP dan cobalah buat 2 implementasi konsep OOP menggunakan python**"
   ]
  },
  {
   "cell_type": "markdown",
   "id": "290cc140",
   "metadata": {},
   "source": [
    "Jawaban :"
   ]
  },
  {
   "cell_type": "markdown",
   "id": "fba64b7f",
   "metadata": {},
   "source": [
    "OOP merupakan suatu metode pemrograman yang berorientasi objek, OOP merepresentasikan objek sebagai objek di sekitar kita dalam bentuk program "
   ]
  },
  {
   "cell_type": "markdown",
   "id": "5e9cae0f",
   "metadata": {},
   "source": [
    "Implementasi konsep OOP :"
   ]
  },
  {
   "cell_type": "code",
   "execution_count": 26,
   "id": "71d5690b",
   "metadata": {},
   "outputs": [
    {
     "name": "stdout",
     "output_type": "stream",
     "text": [
      "anak kelas ragnarok yang bernama gisa\n",
      "sedang belajar AI\n"
     ]
    }
   ],
   "source": [
    "#Konsep OOP Encapsulation\n",
    "\n",
    "#sebelum encapsulation :\n",
    "\n",
    "nama = \"gisa\"\n",
    "kelas = \"ragnarok\"\n",
    "\n",
    "def belajarAI():\n",
    "  print(\"sedang belajar AI\")\n",
    "\n",
    "def info(nama, kelas):\n",
    "  print(f\"anak kelas {kelas} yang bernama {nama}\") \n",
    "\n",
    "info(nama, kelas)\n",
    "belajarAI()\n"
   ]
  },
  {
   "cell_type": "code",
   "execution_count": 27,
   "id": "ebc1aeca",
   "metadata": {},
   "outputs": [
    {
     "name": "stdout",
     "output_type": "stream",
     "text": [
      "anak kelas ragnarok yang bernama Dino\n",
      "sedang belajar AI\n"
     ]
    }
   ],
   "source": [
    "#sesudah encapsulation :\n",
    "\n",
    "class Siswa(object):  \n",
    "    def __init__(self, nama, kelas):\n",
    "        self.nama = nama\n",
    "        self.kelas = kelas\n",
    "\n",
    "    def belajarAI(self):\n",
    "          print(\"sedang belajar AI\")\n",
    "\n",
    "    def info(self):\n",
    "          print(f\"anak kelas {self.kelas} yang bernama {self.nama}\") \n",
    "    \n",
    "\n",
    "siswa1 = Siswa(\"Dino\", \"ragnarok\")\n",
    "\n",
    "siswa1.info()\n",
    "siswa1.belajarAI()"
   ]
  },
  {
   "cell_type": "code",
   "execution_count": 28,
   "id": "6681e3de",
   "metadata": {},
   "outputs": [
    {
     "name": "stdout",
     "output_type": "stream",
     "text": [
      "nama perabotan : panci, tempat penyimpanan : dapur, terbuat dari : besi\n"
     ]
    }
   ],
   "source": [
    "#Konsep OOP Inheritence\n",
    "\n",
    "class Perabotan(object):\n",
    "    def __init__(self, nama, tempat, material):\n",
    "        self.nama = nama\n",
    "        self.tempat = tempat\n",
    "        self.material = material\n",
    "\n",
    "    def __disimpan(self):\n",
    "        print(self.nama, \" disimpan di \", self.tempat)\n",
    "\n",
    "    def info(self):\n",
    "        print(f\"nama perabotan : {self.nama}, tempat penyimpanan : {self.tempat}, terbuat dari : {self.material}\")\n",
    "\n",
    "perabotan1 = Perabotan(\"panci\",\"dapur\", \"besi\")\n",
    "\n",
    "perabotan1.info()"
   ]
  },
  {
   "cell_type": "code",
   "execution_count": 29,
   "id": "c68515b2",
   "metadata": {},
   "outputs": [
    {
     "name": "stdout",
     "output_type": "stream",
     "text": [
      "nama perabotan : kursi, tempat penyimpanan : ruang tamu, terbuat dari : kayu\n",
      "warna: putih, jumlah : 4\n",
      "kursi dibuat\n"
     ]
    }
   ],
   "source": [
    "# Lanjutan konsep OOP dan inheritence\n",
    "\n",
    "class Kursi(Perabotan):\n",
    "    def __init__(self, nama, tempat, material, warna, jumlah):\n",
    "        super().__init__(nama, tempat, material)\n",
    "        self.warna = warna\n",
    "        self.jumlah = jumlah\n",
    "\n",
    "    def dibuat(self):\n",
    "        print(self.nama,\"dibuat\")\n",
    "\n",
    "    def info(self):\n",
    "        super().info()\n",
    "        print(f\"warna: {self.warna}, jumlah : {self.jumlah}\")\n",
    "\n",
    "perabotan1 = Kursi(\"kursi\", \"ruang tamu\", \"kayu\", \"putih\", \"4\")\n",
    "\n",
    "\n",
    "perabotan1.info()\n",
    "perabotan1.dibuat()\n"
   ]
  },
  {
   "cell_type": "markdown",
   "id": "3ad375ad",
   "metadata": {},
   "source": [
    "**2. Sebutkan dan jelaskan 2 jenis modules yang ada dalam python**"
   ]
  },
  {
   "cell_type": "markdown",
   "id": "3360b25b",
   "metadata": {},
   "source": [
    "Jawaban :"
   ]
  },
  {
   "cell_type": "markdown",
   "id": "6471452d",
   "metadata": {},
   "source": [
    "Python modules adalah file dengan ekstensi .py yang berisi kode python yang dapat diimpor ke dalam program python lain.\n",
    "\n",
    "Modules dalam python ada 2 yaitu :\n",
    "\n",
    "1. python built in modules : merupakan kumpulan dari fungsi bawaan yang disediakan python, fungsi tersedia sebagai bagian dari perpustakaan yang dibundle dengan ditribusi python, modules ini tidak perlu dibuat manual dan dapat langsung digunakan dengan melakukan import\n",
    "\n",
    "2. pyton custom modules : merupakan modules yang dibuat secara manual disesuaikan dengan kebutuhan pribadi. modules ini kemudian bisa diimport dan digunakan secara berulang ulang tanpa harus membuat code yang sama"
   ]
  },
  {
   "cell_type": "markdown",
   "id": "b0023424",
   "metadata": {},
   "source": [
    "**3. Hitunglah berapa hasil dari (persamaan matematika) menggunakan module math**"
   ]
  },
  {
   "cell_type": "markdown",
   "id": "279ce892",
   "metadata": {},
   "source": [
    "Jawaban :"
   ]
  },
  {
   "cell_type": "code",
   "execution_count": 2,
   "id": "c36eec6b",
   "metadata": {},
   "outputs": [
    {
     "data": {
      "text/plain": [
       "28.145095132914648"
      ]
     },
     "execution_count": 2,
     "metadata": {},
     "output_type": "execute_result"
    }
   ],
   "source": [
    "import math\n",
    "\n",
    "a = math.sqrt(175) + (4*(math.sqrt(7))) + (1/3) + math.log(81,3)\n",
    "\n",
    "a"
   ]
  },
  {
   "cell_type": "markdown",
   "id": "bf957b22",
   "metadata": {},
   "source": [
    "**4. Apa itu custom exception handling dan berikan 1 contoh implementasinya**"
   ]
  },
  {
   "cell_type": "markdown",
   "id": "51f80e63",
   "metadata": {},
   "source": [
    "Jawaban :"
   ]
  },
  {
   "cell_type": "markdown",
   "id": "03558506",
   "metadata": {},
   "source": [
    "Custom exception handling merupakan metode untuk dapat mengatur jenis exception dan comment yang muncul ketika melakukan exception handling. Custom exception handling berguna dalam menspesifikasi exception handling sesuai dengan apa yang dibutuhkan. Contoh implementasinya adalah : penggunaan raise dalam mengcustomisasi comment yg muncul untuk error tertentu, assert untuk melempar kesalahan\n",
    "\n",
    "program :"
   ]
  },
  {
   "cell_type": "code",
   "execution_count": 14,
   "id": "fd72b35c",
   "metadata": {},
   "outputs": [
    {
     "ename": "Exception",
     "evalue": "a tidak boleh lebih dari b",
     "output_type": "error",
     "traceback": [
      "\u001b[1;31m---------------------------------------------------------------------------\u001b[0m",
      "\u001b[1;31mException\u001b[0m                                 Traceback (most recent call last)",
      "\u001b[1;32m<ipython-input-14-4b25a0210b00>\u001b[0m in \u001b[0;36m<module>\u001b[1;34m\u001b[0m\n\u001b[0;32m      3\u001b[0m \u001b[1;33m\u001b[0m\u001b[0m\n\u001b[0;32m      4\u001b[0m \u001b[1;32mif\u001b[0m\u001b[1;33m(\u001b[0m\u001b[0ma\u001b[0m\u001b[1;33m>\u001b[0m\u001b[0mb\u001b[0m\u001b[1;33m)\u001b[0m \u001b[1;33m:\u001b[0m\u001b[1;33m\u001b[0m\u001b[1;33m\u001b[0m\u001b[0m\n\u001b[1;32m----> 5\u001b[1;33m     \u001b[1;32mraise\u001b[0m \u001b[0mException\u001b[0m\u001b[1;33m(\u001b[0m\u001b[1;34m\"a tidak boleh lebih dari b\"\u001b[0m\u001b[1;33m)\u001b[0m\u001b[1;33m\u001b[0m\u001b[1;33m\u001b[0m\u001b[0m\n\u001b[0m",
      "\u001b[1;31mException\u001b[0m: a tidak boleh lebih dari b"
     ]
    }
   ],
   "source": [
    "a = 10\n",
    "b = 5\n",
    "\n",
    "if(a>b) :\n",
    "    raise Exception(\"a tidak boleh lebih dari b\")"
   ]
  },
  {
   "cell_type": "markdown",
   "id": "12056cbb",
   "metadata": {},
   "source": [
    "## Artificial Intelligence"
   ]
  },
  {
   "cell_type": "markdown",
   "id": "7327a3bf",
   "metadata": {},
   "source": [
    "**1. Perbedaan structured dan unstructured data dan 3 sumber data**"
   ]
  },
  {
   "cell_type": "markdown",
   "id": "c3894f5e",
   "metadata": {},
   "source": [
    "Jawaban :"
   ]
  },
  {
   "cell_type": "markdown",
   "id": "4c245de3",
   "metadata": {},
   "source": [
    "Perbedaan :\n",
    "\n",
    "Structured data merupakan data yang berbentuk tabular, yang sudah memiliki struktur, mudah dimengerti, memiliki format yang sudah ditentukan sebelumnya contoh: data bisnis, excel, csv.\n",
    "\n",
    "Sementara unstructed data merupakan data yang belum terstruktur, data sulit dimasukan dalam tabel, dan tidak memiliki struktur yang ditentukan. contoh : speech, image, video.\n",
    "\n",
    "\n",
    "3 sumber data : \n",
    "\n",
    "1. sensor\n",
    "2. interaksi sosial\n",
    "3. kuisioner"
   ]
  },
  {
   "cell_type": "markdown",
   "id": "c8a76056",
   "metadata": {},
   "source": [
    "**2. Perbedaan AI, Machine Learning, dan Deep Learning**"
   ]
  },
  {
   "cell_type": "markdown",
   "id": "2ee24dc9",
   "metadata": {},
   "source": [
    "Jawaban :"
   ]
  },
  {
   "cell_type": "markdown",
   "id": "3874e0b8",
   "metadata": {},
   "source": [
    "AI : kumpulan algoritma yang digunakan untuk membuat sebuah kecerdasan. AI merupakan teknik yang memungkinkan komputer meniru kecerdasan manusia\n",
    "\n",
    "ML : algoritma yang digunakan data untuk membangun kecerdasan (feature extraction dilakukan secara manual). ML merupakan bagian dari AI yang memungkinkan mesin untuk mengerjakan tugas secara lebih baik, dengan pengalaman \n",
    "\n",
    "DL : rekayasa fitur otomatis (feature extraction dilakukan secara otomatis). DL merupakan bagian dari ML yang memungkinkan software melatih dirinya sendiri untuk melakukan tugas dengan data dalam jumlah besar\n",
    "\n",
    "AI berada di lapisan terluar, didalamnya ada ML, dan didalam ML ada DL. Semakin dalam lapisannya proses yang terjadi semakin kompleks."
   ]
  },
  {
   "cell_type": "markdown",
   "id": "8a493665",
   "metadata": {},
   "source": [
    "**3. Perbedaan Machine Learning dan Traditional software**"
   ]
  },
  {
   "cell_type": "markdown",
   "id": "7a455b86",
   "metadata": {},
   "source": [
    "Jawaban :"
   ]
  },
  {
   "cell_type": "markdown",
   "id": "bf233114",
   "metadata": {},
   "source": [
    "Perbedaan ML dan TS adalah machine learning memproses data dan menemukan pola dari data sehingga menemukan aturan yang akan dipakai untuk memprediksi data di kemudian hari. Sementara traditional software memproses data menggunakan aturan hingga menghasilkan jawaban. Output dari keduanya berbeda, ml menghasilkan aturan sementara ts menghasilkan jawaban "
   ]
  },
  {
   "cell_type": "markdown",
   "id": "0436e76c",
   "metadata": {},
   "source": [
    "**4. 3 contoh aplikasi machine learning di sektor smart city dan agriculture**"
   ]
  },
  {
   "cell_type": "markdown",
   "id": "1d5ab465",
   "metadata": {},
   "source": [
    "Jawaban :"
   ]
  },
  {
   "cell_type": "markdown",
   "id": "7c8d790e",
   "metadata": {},
   "source": [
    "Smart farming, smart house, smart watering"
   ]
  },
  {
   "cell_type": "markdown",
   "id": "7f2198d9",
   "metadata": {},
   "source": [
    "## Maths for AI"
   ]
  },
  {
   "cell_type": "markdown",
   "id": "b47f1a01",
   "metadata": {},
   "source": [
    "**1. Mengapa ilmu matematika penting ketika mempelajari AI**"
   ]
  },
  {
   "cell_type": "markdown",
   "id": "9d2c0d72",
   "metadata": {},
   "source": [
    "Jawaban :"
   ]
  },
  {
   "cell_type": "markdown",
   "id": "b5a506eb",
   "metadata": {},
   "source": [
    "Karena AI sangat erat kakitannya dengan matematika dan statistik, komputer dapat mempelajari data dengan cara dan sistem berfikir matematika sehingga penting untuk mengetahui apa yang mendasari proses pembelajaran komputer untuk membangun sebuah AI. Salah satu implementasinya adalah dalam computer vision, dimana image yang semula berbentuk pixel x pixel kemudian akan di konversi ke dalam bentuk angka dan disimpan dalam sebuah matrix, dalam proses selanjutnya, yang akan diolah adalah matrix ini, sehingga dasar matematika sangat penting dalam AI. Dalam mempelajari machine learing bahkan ilmu mengenai program dan tools hanya 30 % sementara sisanya adalah math behind AI."
   ]
  },
  {
   "cell_type": "markdown",
   "id": "57d741aa",
   "metadata": {},
   "source": [
    "**2. Jelaskan perbedaan vektor dan skalar**"
   ]
  },
  {
   "cell_type": "markdown",
   "id": "fd71ea44",
   "metadata": {},
   "source": [
    "Jawaban :"
   ]
  },
  {
   "cell_type": "markdown",
   "id": "a4555e60",
   "metadata": {},
   "source": [
    "Vektor merupakan besaran yang memiliki arah dan nilai (dalam ilmu data merupakan kumpulan nilai dari variabel tertentu), sementara skalar hanya memiliki nilai saja"
   ]
  },
  {
   "cell_type": "markdown",
   "id": "14dc57f4",
   "metadata": {},
   "source": [
    "**3. Jelaskan perbedaan jarak eucliedean dan manhattan**"
   ]
  },
  {
   "cell_type": "markdown",
   "id": "14c42c0d",
   "metadata": {},
   "source": [
    "Jawaban :"
   ]
  },
  {
   "cell_type": "markdown",
   "id": "99a21272",
   "metadata": {},
   "source": [
    "Euclidean distance merupakan jalur terpendek antara sumber dan tujuan yang berupa garis lurus. Sementara Manhattan distance adalah jumlah dari semua jarak nyata antara sumber dan tujuan dan setiap jarak selalu berupa garis lurus.Rumus yang digunakan keduanya juga berbeda, eucliedean menggunakan akar kuadrat sementara manhattan menggunakan nilai mutlak"
   ]
  },
  {
   "cell_type": "markdown",
   "id": "c8f6fc27",
   "metadata": {},
   "source": [
    "**4. Kegunaan matrix dalam ilmu matematika ketika menggunakan AI**"
   ]
  },
  {
   "cell_type": "markdown",
   "id": "88bda948",
   "metadata": {},
   "source": [
    "Jawaban :"
   ]
  },
  {
   "cell_type": "markdown",
   "id": "40a78d90",
   "metadata": {},
   "source": [
    "Kegunaan matrix sangat banyak diantaranya adalah menyimpan kumpulan nilai dari sebuah variabel ke dalam sebuah kelompok(matrix) dan memungkinkan kita untuk melakukan operasi matematika terhadapnya. Salah satu implementasinyanya adalah pada feature extraction dalam computer vision. Data image terdiri dari pixel dimana pixel tersebut akan dikonversi ke dalam nilai dan dibentuk kedalam sebuat matrix, untuk dapat diproses dalam AI, contoh dalam image classification dan lain lain, matrix tersebut akan diolah dengan melakukan operasi operasi matematika terhadap matrix"
   ]
  },
  {
   "cell_type": "markdown",
   "id": "4a7b3857",
   "metadata": {},
   "source": [
    "## Machine Learning"
   ]
  },
  {
   "cell_type": "markdown",
   "id": "6318668e",
   "metadata": {},
   "source": [
    "**1. Jelaskan perbedaan supervised learing dan unsupervised learning, sebutkan 2 contohnya**"
   ]
  },
  {
   "cell_type": "markdown",
   "id": "7d08231c",
   "metadata": {},
   "source": [
    "Jawaban :"
   ]
  },
  {
   "cell_type": "markdown",
   "id": "20c0a200",
   "metadata": {},
   "source": [
    "Supervised learning merupakan proses untuk menentukan relationship melalui sebuah training, sementara unsupervised learning merupakan sebuah proses yang dilakukan untuk menemukan pola yang baru. Supervised learning berhubungan dengan data yang memiliki label, sementara unsupervised learning datanya tidak berlabel\n",
    "\n",
    "\n",
    "contoh nya adalah :\n",
    "\n",
    "1. Supervised learning : mengklasifikasi bunga iris, klasifikasi kualitas wine ke dalam kategori (baik, sedang, buruk) pada data berlabel. Algoritma supervised learning diantaranya : linear regression, naive bayes\n",
    "2. Unsupervised learning : clustering pendapatan penduduk, deteksi anomali. Algoritma unsupervised learning diantaranya : k-means cluster, apriori"
   ]
  },
  {
   "cell_type": "markdown",
   "id": "201b4ffb",
   "metadata": {},
   "source": [
    "**2. Sebutkan tahapan machine learning AI life cycle dan jelaskan**"
   ]
  },
  {
   "cell_type": "markdown",
   "id": "42b9236f",
   "metadata": {},
   "source": [
    "Jawaban :"
   ]
  },
  {
   "cell_type": "markdown",
   "id": "0d2dcc95",
   "metadata": {},
   "source": [
    "Tahapan dalam AI life cycle adalah :\n",
    "\n",
    "1. Menentukan tujuan : proses mengidentifikasi dan merencanakan sistem apa yang ingin dibuat \n",
    "2. Gathering data : merupakan proses mengumpulkan data yang dibutuhkan dalam proses machine learing\n",
    "3. Preparing data : menyiapkan data yang dikumpulkan menjadi data bersih dan sesuai dengan kebutuhan\n",
    "4. Choosing a algoritma : memilih algoritma yang akan digunakan dalam proses machine learning\n",
    "5. Training model : melakukan training terhadap data untuk dapat menemukan pola \n",
    "6. Tes model : melakukan testing terhadap sistem yang sudah ditraining dan mengevaluasi kinerja sistem machine learning, apakah cukup akurat atau belum\n",
    "7. Integrasikan model : mengimplementasikan sistem"
   ]
  },
  {
   "cell_type": "markdown",
   "id": "74b5ec43",
   "metadata": {},
   "source": [
    "**3. Apa perbdeaan regression dan clustering**"
   ]
  },
  {
   "cell_type": "markdown",
   "id": "ea670057",
   "metadata": {},
   "source": [
    "Jawaban :"
   ]
  },
  {
   "cell_type": "markdown",
   "id": "1a6bcea2",
   "metadata": {},
   "source": [
    "Regression dilakukan untuk data yang labelnya sifatnya numerik yang sifatnya kontinu, sehingga prediksinya juga akan berbentuk numerik misalkan prediksi pertambahan jumlah penduduk. Regresi merupakan bagian dari supervised learning. \n",
    "\n",
    "Sementara, clustering merupakan pengelompokan yang dilakukan pada data yang tidak berlabel, sehingga sistem akan menentukan pola baru dari data. Clustering merupakan bagian dari unsupervised learning."
   ]
  },
  {
   "cell_type": "markdown",
   "id": "d9da83f9",
   "metadata": {},
   "source": [
    "**4. Apa itu algoritma artificial neural network dan untuk apa fungsinya**"
   ]
  },
  {
   "cell_type": "markdown",
   "id": "f1cda26e",
   "metadata": {},
   "source": [
    "Jawaban :"
   ]
  },
  {
   "cell_type": "markdown",
   "id": "89c695d6",
   "metadata": {},
   "source": [
    "Artificial neural network merupakan algoritma yang mereplika sistem kerja neuron pada otak manusia. ANN merupakan gabungan dari beberapa neuron (perceptron) yang disusun dalam beberapa lapisan (layer). Fungsinya adalah untuk mengajarkan komputer cara berfikir manusia dengan konsep otak manusia, sehingga komputer dapat mempelajari sendiri data dengan lebih sedikit bantuan dari manusia. Contoh penerapannya adalah face recognition, speech recognition, dan lain lain."
   ]
  }
 ],
 "metadata": {
  "kernelspec": {
   "display_name": "Python 3",
   "language": "python",
   "name": "python3"
  },
  "language_info": {
   "codemirror_mode": {
    "name": "ipython",
    "version": 3
   },
   "file_extension": ".py",
   "mimetype": "text/x-python",
   "name": "python",
   "nbconvert_exporter": "python",
   "pygments_lexer": "ipython3",
   "version": "3.8.8"
  }
 },
 "nbformat": 4,
 "nbformat_minor": 5
}
