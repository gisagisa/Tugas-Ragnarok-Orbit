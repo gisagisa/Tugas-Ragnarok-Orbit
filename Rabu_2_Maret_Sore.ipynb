{
 "cells": [
  {
   "cell_type": "markdown",
   "id": "d94aa074",
   "metadata": {},
   "source": [
    "Nama : Gisani Miftahul Rahma"
   ]
  },
  {
   "cell_type": "markdown",
   "id": "dd239ba4",
   "metadata": {},
   "source": [
    "Kelas : Ragnarok"
   ]
  },
  {
   "cell_type": "markdown",
   "id": "9835be18",
   "metadata": {},
   "source": [
    "Universitas : UPNVYK"
   ]
  },
  {
   "cell_type": "markdown",
   "id": "bf90843c",
   "metadata": {},
   "source": [
    "## Tugas Kelas Rabu 2 Maret Sesi Sore"
   ]
  },
  {
   "cell_type": "markdown",
   "id": "27712b4a",
   "metadata": {},
   "source": [
    "Jawaban No 1"
   ]
  },
  {
   "cell_type": "code",
   "execution_count": 1,
   "id": "f94e8a56",
   "metadata": {},
   "outputs": [],
   "source": [
    "def cek(x,y) :\n",
    "    hasil = x%y\n",
    "    if hasil==0 :\n",
    "        return True\n",
    "    else :\n",
    "        return False"
   ]
  },
  {
   "cell_type": "code",
   "execution_count": 2,
   "id": "68e7d98e",
   "metadata": {},
   "outputs": [
    {
     "name": "stdout",
     "output_type": "stream",
     "text": [
      "masukkan nilai x : 4\n",
      "masukkan nilai y : 2\n",
      "True\n"
     ]
    }
   ],
   "source": [
    "x = int(input(\"masukkan nilai x : \"))\n",
    "y = int(input(\"masukkan nilai y : \"))\n",
    "hasil = cek(x,y)\n",
    "print(hasil)"
   ]
  },
  {
   "cell_type": "markdown",
   "id": "89d191db",
   "metadata": {},
   "source": [
    "Jawaban No 2"
   ]
  },
  {
   "cell_type": "code",
   "execution_count": 11,
   "id": "9c559d54",
   "metadata": {},
   "outputs": [
    {
     "name": "stdout",
     "output_type": "stream",
     "text": [
      "\n",
      "MENU\n",
      "1 . Soup and Salad\n",
      "2 . Pasta with meat sauce\n",
      "3 . Chef's special\n",
      "Which number would you like to order? 4\n",
      "Sorry, that is not a valid choice.\n"
     ]
    }
   ],
   "source": [
    "menu= ['Soup and Salad', 'Pasta with meat sauce', \"Chef's special\"]\n",
    "i=0\n",
    "print(\"\\nMENU\")\n",
    "for x in range(3) :\n",
    "    print(i+1,\".\",menu[i])\n",
    "    i+=1\n",
    "\n",
    "a=int(input(\"Which number would you like to order? \"))\n",
    "\n",
    "if a == 1 or a ==2 or a ==3 :\n",
    "    print(\"One\", menu[a-1], \"coming right up\")\n",
    "else :\n",
    "    print(\"Sorry, that is not a valid choice.\")\n",
    "    "
   ]
  },
  {
   "cell_type": "markdown",
   "id": "a3af249c",
   "metadata": {},
   "source": [
    "Jawaban no 3"
   ]
  },
  {
   "cell_type": "code",
   "execution_count": 22,
   "id": "66ce3ad6",
   "metadata": {},
   "outputs": [
    {
     "name": "stdout",
     "output_type": "stream",
     "text": [
      "Masukkan angka yang ingin dibagi 3 : 6\n",
      "True\n"
     ]
    }
   ],
   "source": [
    "def pembagianTiga():\n",
    "    angka = int(input(\"Masukkan angka yang ingin dibagi 3 : \"))\n",
    "    if angka%3 == 0 :\n",
    "        return True\n",
    "    else :\n",
    "        return False\n",
    "\n",
    "hasil=pembagianTiga()\n",
    "print(hasil)"
   ]
  },
  {
   "cell_type": "markdown",
   "id": "6abc54e9",
   "metadata": {},
   "source": [
    "Jawaban no 4"
   ]
  },
  {
   "cell_type": "code",
   "execution_count": 20,
   "id": "dd0089fd",
   "metadata": {},
   "outputs": [
    {
     "name": "stdout",
     "output_type": "stream",
     "text": [
      "masukkan nilai m : 3\n",
      "masukkan nilai n : 2\n"
     ]
    },
    {
     "data": {
      "text/plain": [
       "True"
      ]
     },
     "execution_count": 20,
     "metadata": {},
     "output_type": "execute_result"
    }
   ],
   "source": [
    "def cekKesamaan(m,n) :\n",
    "    if (m == n):\n",
    "        return False\n",
    "    else:\n",
    "        return True\n",
    "    \n",
    "m=int(input(\"masukkan nilai m : \"))\n",
    "n=int(input(\"masukkan nilai n : \"))\n",
    "\n",
    "cekKesamaan(m,n)"
   ]
  },
  {
   "cell_type": "markdown",
   "id": "683d67ae",
   "metadata": {},
   "source": [
    "Jawaban no 5\n"
   ]
  },
  {
   "cell_type": "markdown",
   "id": "b46af735",
   "metadata": {},
   "source": [
    "kesalahan pada no 5 adalah peletakan print name, dimana name merupakan variabel lokal yang hanya bisa diketahui oleh fungsi ask_name, sehingga jika pemanggilan name dilakukan diluar fungsi maka name tidak akan terdeteksi, cara menyelesasikannya ada berbagai macam diantaranya :\n",
    "1. mereturnkan nilai name dari fungsi ask_name dan menyimpannya dalam variabel global\n",
    "2. memindahkan print ke dalam fungsi ask_name\n",
    "berikut adalah contoh penyelesaiannya :"
   ]
  },
  {
   "cell_type": "code",
   "execution_count": 15,
   "id": "36f5929a",
   "metadata": {},
   "outputs": [
    {
     "name": "stdout",
     "output_type": "stream",
     "text": [
      "Enter your name :gisa\n",
      "Your name is gisa\n"
     ]
    }
   ],
   "source": [
    "def ask_name():\n",
    "    name=input(\"Enter your name :\")\n",
    "    return name\n",
    "    \n",
    "name=ask_name()\n",
    "print(\"Your name is\", name)"
   ]
  }
 ],
 "metadata": {
  "kernelspec": {
   "display_name": "Python 3",
   "language": "python",
   "name": "python3"
  },
  "language_info": {
   "codemirror_mode": {
    "name": "ipython",
    "version": 3
   },
   "file_extension": ".py",
   "mimetype": "text/x-python",
   "name": "python",
   "nbconvert_exporter": "python",
   "pygments_lexer": "ipython3",
   "version": "3.8.8"
  }
 },
 "nbformat": 4,
 "nbformat_minor": 5
}
